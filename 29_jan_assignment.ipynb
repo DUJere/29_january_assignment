{
 "cells": [
  {
   "cell_type": "markdown",
   "id": "795a6194-6968-4344-bed4-09acc64c5886",
   "metadata": {},
   "source": [
    "Q 1. Who developed python programming language ?\n",
    "\n",
    "Answer : Guido van Rossum is a Dutch programmer best known as the creator of the Python programming language."
   ]
  },
  {
   "cell_type": "markdown",
   "id": "fa454af6-f862-4aa5-9c27-0b92ad0a72a2",
   "metadata": {},
   "source": [
    "Q 2. Which type of programming does python support ?\n",
    "\n",
    "Answer : Python is a multi-paradigm programming language. Object-oriented programming and structured programming are fully supported, and many of their features support functional programming and aspect-oriented programming."
   ]
  },
  {
   "cell_type": "markdown",
   "id": "ca86b625-42e2-430e-8aa4-8816d1c097a1",
   "metadata": {},
   "source": [
    "Q 3. Is python case sensitive when dealing with identifiers ?\n",
    "\n",
    "Answer : Yes, Python is a case-sensitive language."
   ]
  },
  {
   "cell_type": "markdown",
   "id": "ad4a72d5-3b80-4891-9332-5a851053dbf6",
   "metadata": {},
   "source": [
    "Q 4. What is correct extension of python file ?\n",
    "\n",
    "Answer : \".py\" is correct extension of python file."
   ]
  },
  {
   "cell_type": "markdown",
   "id": "b76dffa8-541c-4619-9997-bccd37c6f1f4",
   "metadata": {},
   "source": [
    "Q 5. Is python code compiled or interpreted ?\n",
    "\n",
    "Answer : Python is an code interpreted language."
   ]
  },
  {
   "cell_type": "markdown",
   "id": "7fd3fc62-33e5-4435-a9a3-6ac1fe2ed2f9",
   "metadata": {},
   "source": [
    "Q 6. Name few blocks of code used to define in python language .\n",
    "\n",
    "Ans. A Python program is constructed from code blocks. A block is a piece of Python program text that is executed as a unit. The following are blocks: \n",
    "        1. a module \n",
    "        2. a function body\n",
    "        3. a class definition."
   ]
  },
  {
   "cell_type": "markdown",
   "id": "b27e9d7e-69d4-4a89-a481-2498afe994cd",
   "metadata": {},
   "source": [
    "Q 7. State a character used to give single line comments in python .\n",
    "\n",
    "Ans. Hash character(#) is used to comment the line in the Python program."
   ]
  },
  {
   "cell_type": "markdown",
   "id": "fb319e62-298c-4d5c-99ec-d9d6212c2e81",
   "metadata": {},
   "source": [
    "Q 8. Mention functions which can helps us to find version of python that we are currnetly working on ?\n",
    "\n",
    "Ans. 1. Using sys. version method.\n",
    "     2. Using python_version() function.\n",
    "     3. Using Python -V command."
   ]
  },
  {
   "cell_type": "markdown",
   "id": "75da2f28-08f6-4848-80e4-7043c2cfc2e1",
   "metadata": {},
   "source": [
    "Q 9. Python supports creation of anonymous functions at runtime , using a construct called \n",
    "\n",
    "Ans. It uses a construct called \"lambda\"."
   ]
  },
  {
   "cell_type": "markdown",
   "id": "bf935e69-6bdc-44c7-8929-a9026223ba3c",
   "metadata": {},
   "source": [
    "Q 10. What does pip stands for in python ?\n",
    "\n",
    "Ans. PIP is a recursive acronym for “Preferred Installer Program”."
   ]
  },
  {
   "cell_type": "markdown",
   "id": "a6c541b3-ced3-4a8a-9424-a068807200b0",
   "metadata": {},
   "source": [
    "Q 11. Mention few built in functions in python .\n",
    "\n",
    "Ans. 1.print( ) function.\n",
    "     2.type( ) function.\n",
    "     3.input( ) function."
   ]
  },
  {
   "cell_type": "markdown",
   "id": "43f70a2c-3bd2-490e-8148-e7a667a97527",
   "metadata": {},
   "source": [
    "Q 12. What is maximum possible length of an identifier in python ?\n",
    "\n",
    "Ans. 79 characters"
   ]
  },
  {
   "cell_type": "markdown",
   "id": "958aa8d8-ef5a-4068-870a-ce92b4de9ec9",
   "metadata": {},
   "source": [
    "Q 13. What are the benefits of using python ?\n",
    "\n",
    "Ans. 1.Presence of third-party modules \n",
    "     2.Extensive support libraries(NumPy for numerical calculations, Pandas for data analytics, etc.) \n",
    "     3.Open source and large active community base \n",
    "     4.Versatile, Easy to read, learn and write\n",
    "     5.User-friendly data structures "
   ]
  },
  {
   "cell_type": "markdown",
   "id": "946dea37-d16c-4d7f-89fe-8442350ce983",
   "metadata": {},
   "source": [
    "Q 14. How is memory managed in python ?\n",
    "\n",
    "Ans. Memory management in Python involves a private heap containing all Python objects and data structures."
   ]
  },
  {
   "cell_type": "markdown",
   "id": "e4ff91e2-2afe-4517-a512-fd2c587445cb",
   "metadata": {},
   "source": [
    "Q 15. How to install python on windows and set path variables ?\n",
    "\n",
    "Ans. In the section entitled User Variables, double-click on the entry that says Path. Another window will pop up showing a list of paths. Click the New button and paste the path to your Python executable there. Once that's inserted, select your newly added path and click the Move Up button until it's at the top."
   ]
  },
  {
   "cell_type": "markdown",
   "id": "f958098b-d6e0-47f0-9968-bcf4678116cc",
   "metadata": {},
   "source": [
    "Q 16. Is indentation required in python ?\n",
    "\n",
    "Ans. The indentation in Python is very important."
   ]
  }
 ],
 "metadata": {
  "kernelspec": {
   "display_name": "Python 3 (ipykernel)",
   "language": "python",
   "name": "python3"
  },
  "language_info": {
   "codemirror_mode": {
    "name": "ipython",
    "version": 3
   },
   "file_extension": ".py",
   "mimetype": "text/x-python",
   "name": "python",
   "nbconvert_exporter": "python",
   "pygments_lexer": "ipython3",
   "version": "3.10.8"
  }
 },
 "nbformat": 4,
 "nbformat_minor": 5
}
